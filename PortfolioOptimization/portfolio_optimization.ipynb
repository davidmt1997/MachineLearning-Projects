{
  "nbformat": 4,
  "nbformat_minor": 0,
  "metadata": {
    "colab": {
      "name": "portfolio_optimization.ipynb",
      "provenance": [],
      "collapsed_sections": []
    },
    "kernelspec": {
      "name": "python3",
      "display_name": "Python 3"
    }
  },
  "cells": [
    {
      "cell_type": "code",
      "metadata": {
        "id": "L4d-b9d4meFn",
        "colab_type": "code",
        "colab": {}
      },
      "source": [
        "# Portfolio optimization using Efficient Frontier"
      ],
      "execution_count": 0,
      "outputs": []
    },
    {
      "cell_type": "code",
      "metadata": {
        "id": "J0VVr9zLmxFq",
        "colab_type": "code",
        "colab": {}
      },
      "source": [
        "from pandas_datareader import data as web\n",
        "import pandas as pd\n",
        "import numpy as np\n",
        "from datetime import datetime\n",
        "import matplotlib.pyplot as plt\n",
        "plt.style.use('fivethirtyeight')"
      ],
      "execution_count": 0,
      "outputs": []
    },
    {
      "cell_type": "code",
      "metadata": {
        "id": "Rqi72XWsnNSK",
        "colab_type": "code",
        "colab": {}
      },
      "source": [
        "# Getting the stock symbols in the portfolio\n",
        "# FAANG Facebook Amazon Apple Netflix Google\n",
        "assets = ['FB', 'AMZN', 'AAPL', 'NFL', 'GOOG']"
      ],
      "execution_count": 0,
      "outputs": []
    },
    {
      "cell_type": "code",
      "metadata": {
        "id": "WG7H1vbznjvJ",
        "colab_type": "code",
        "colab": {}
      },
      "source": [
        "# Assign weights to our portfolio\n",
        "weights = np.array([0.2, 0.2, 0.2, 0.2, 0.2])"
      ],
      "execution_count": 0,
      "outputs": []
    },
    {
      "cell_type": "code",
      "metadata": {
        "id": "0VUP0Wj1nuLI",
        "colab_type": "code",
        "colab": {}
      },
      "source": [
        "#Get the portfolio start date\n",
        "stock_start_date = '2013-01-01'"
      ],
      "execution_count": 0,
      "outputs": []
    },
    {
      "cell_type": "code",
      "metadata": {
        "id": "CcGxH_qOn8PA",
        "colab_type": "code",
        "outputId": "5163765b-64c3-436c-ad81-29d0372262a7",
        "colab": {
          "base_uri": "https://localhost:8080/",
          "height": 34
        }
      },
      "source": [
        "# Get the ending date\n",
        "today = datetime.today().strftime('%Y-%m-%d')\n",
        "today"
      ],
      "execution_count": 6,
      "outputs": [
        {
          "output_type": "execute_result",
          "data": {
            "text/plain": [
              "'2020-04-07'"
            ]
          },
          "metadata": {
            "tags": []
          },
          "execution_count": 6
        }
      ]
    },
    {
      "cell_type": "code",
      "metadata": {
        "id": "SMACBUPmoKOJ",
        "colab_type": "code",
        "outputId": "45c2abde-c6e8-4491-f982-579522da254f",
        "colab": {
          "base_uri": "https://localhost:8080/",
          "height": 455
        }
      },
      "source": [
        "# create the dataframa to store the adjusted close price of the stock\n",
        "df = pd.DataFrame()\n",
        "\n",
        "for stock in assets:\n",
        "  df[stock] = web.DataReader(stock, data_source='yahoo', start=stock_start_date, end=today)['Adj Close']\n",
        "\n",
        "df"
      ],
      "execution_count": 7,
      "outputs": [
        {
          "output_type": "execute_result",
          "data": {
            "text/html": [
              "<div>\n",
              "<style scoped>\n",
              "    .dataframe tbody tr th:only-of-type {\n",
              "        vertical-align: middle;\n",
              "    }\n",
              "\n",
              "    .dataframe tbody tr th {\n",
              "        vertical-align: top;\n",
              "    }\n",
              "\n",
              "    .dataframe thead th {\n",
              "        text-align: right;\n",
              "    }\n",
              "</style>\n",
              "<table border=\"1\" class=\"dataframe\">\n",
              "  <thead>\n",
              "    <tr style=\"text-align: right;\">\n",
              "      <th></th>\n",
              "      <th>FB</th>\n",
              "      <th>AMZN</th>\n",
              "      <th>AAPL</th>\n",
              "      <th>NFL</th>\n",
              "      <th>GOOG</th>\n",
              "    </tr>\n",
              "    <tr>\n",
              "      <th>Date</th>\n",
              "      <th></th>\n",
              "      <th></th>\n",
              "      <th></th>\n",
              "      <th></th>\n",
              "      <th></th>\n",
              "    </tr>\n",
              "  </thead>\n",
              "  <tbody>\n",
              "    <tr>\n",
              "      <th>2013-01-02</th>\n",
              "      <td>28.000000</td>\n",
              "      <td>257.309998</td>\n",
              "      <td>68.687538</td>\n",
              "      <td>NaN</td>\n",
              "      <td>360.274597</td>\n",
              "    </tr>\n",
              "    <tr>\n",
              "      <th>2013-01-03</th>\n",
              "      <td>27.770000</td>\n",
              "      <td>258.480011</td>\n",
              "      <td>67.820526</td>\n",
              "      <td>NaN</td>\n",
              "      <td>360.483826</td>\n",
              "    </tr>\n",
              "    <tr>\n",
              "      <th>2013-01-04</th>\n",
              "      <td>28.760000</td>\n",
              "      <td>259.149994</td>\n",
              "      <td>65.931404</td>\n",
              "      <td>NaN</td>\n",
              "      <td>367.607117</td>\n",
              "    </tr>\n",
              "    <tr>\n",
              "      <th>2013-01-07</th>\n",
              "      <td>29.420000</td>\n",
              "      <td>268.459991</td>\n",
              "      <td>65.543602</td>\n",
              "      <td>NaN</td>\n",
              "      <td>366.003143</td>\n",
              "    </tr>\n",
              "    <tr>\n",
              "      <th>2013-01-08</th>\n",
              "      <td>29.059999</td>\n",
              "      <td>266.380005</td>\n",
              "      <td>65.719994</td>\n",
              "      <td>NaN</td>\n",
              "      <td>365.280823</td>\n",
              "    </tr>\n",
              "    <tr>\n",
              "      <th>...</th>\n",
              "      <td>...</td>\n",
              "      <td>...</td>\n",
              "      <td>...</td>\n",
              "      <td>...</td>\n",
              "      <td>...</td>\n",
              "    </tr>\n",
              "    <tr>\n",
              "      <th>2020-03-31</th>\n",
              "      <td>166.800003</td>\n",
              "      <td>1949.719971</td>\n",
              "      <td>254.289993</td>\n",
              "      <td>NaN</td>\n",
              "      <td>1162.810059</td>\n",
              "    </tr>\n",
              "    <tr>\n",
              "      <th>2020-04-01</th>\n",
              "      <td>159.600006</td>\n",
              "      <td>1907.699951</td>\n",
              "      <td>240.910004</td>\n",
              "      <td>NaN</td>\n",
              "      <td>1105.619995</td>\n",
              "    </tr>\n",
              "    <tr>\n",
              "      <th>2020-04-02</th>\n",
              "      <td>158.190002</td>\n",
              "      <td>1918.829956</td>\n",
              "      <td>244.929993</td>\n",
              "      <td>NaN</td>\n",
              "      <td>1120.839966</td>\n",
              "    </tr>\n",
              "    <tr>\n",
              "      <th>2020-04-03</th>\n",
              "      <td>154.179993</td>\n",
              "      <td>1906.589966</td>\n",
              "      <td>241.410004</td>\n",
              "      <td>NaN</td>\n",
              "      <td>1097.880005</td>\n",
              "    </tr>\n",
              "    <tr>\n",
              "      <th>2020-04-06</th>\n",
              "      <td>165.550003</td>\n",
              "      <td>1997.589966</td>\n",
              "      <td>262.470001</td>\n",
              "      <td>NaN</td>\n",
              "      <td>1186.920044</td>\n",
              "    </tr>\n",
              "  </tbody>\n",
              "</table>\n",
              "<p>1828 rows × 5 columns</p>\n",
              "</div>"
            ],
            "text/plain": [
              "                    FB         AMZN        AAPL  NFL         GOOG\n",
              "Date                                                             \n",
              "2013-01-02   28.000000   257.309998   68.687538  NaN   360.274597\n",
              "2013-01-03   27.770000   258.480011   67.820526  NaN   360.483826\n",
              "2013-01-04   28.760000   259.149994   65.931404  NaN   367.607117\n",
              "2013-01-07   29.420000   268.459991   65.543602  NaN   366.003143\n",
              "2013-01-08   29.059999   266.380005   65.719994  NaN   365.280823\n",
              "...                ...          ...         ...  ...          ...\n",
              "2020-03-31  166.800003  1949.719971  254.289993  NaN  1162.810059\n",
              "2020-04-01  159.600006  1907.699951  240.910004  NaN  1105.619995\n",
              "2020-04-02  158.190002  1918.829956  244.929993  NaN  1120.839966\n",
              "2020-04-03  154.179993  1906.589966  241.410004  NaN  1097.880005\n",
              "2020-04-06  165.550003  1997.589966  262.470001  NaN  1186.920044\n",
              "\n",
              "[1828 rows x 5 columns]"
            ]
          },
          "metadata": {
            "tags": []
          },
          "execution_count": 7
        }
      ]
    },
    {
      "cell_type": "code",
      "metadata": {
        "id": "ZluX9n1lol68",
        "colab_type": "code",
        "outputId": "f6b7b4cb-a6ee-4776-dc7e-75dbbd002a17",
        "colab": {
          "base_uri": "https://localhost:8080/",
          "height": 692
        }
      },
      "source": [
        "# Show the stock over time\n",
        "title = 'Portfolio Adj Close proce history'\n",
        "\n",
        "my_stocks = df\n",
        "\n",
        "for c in my_stocks.columns.values:\n",
        "  plt.plot(my_stocks[c], label=c)\n",
        "\n",
        "plt.title(title)\n",
        "plt.xlabel('Date')\n",
        "plt.ylabel('Adj Close Price USD')\n",
        "plt.legend(my_stocks.columns.values, loc='upperleft')\n",
        "plt.show()"
      ],
      "execution_count": 8,
      "outputs": [
        {
          "output_type": "stream",
          "text": [
            "/usr/local/lib/python3.6/dist-packages/pandas/plotting/_matplotlib/converter.py:103: FutureWarning: Using an implicitly registered datetime converter for a matplotlib plotting method. The converter was registered by pandas on import. Future versions of pandas will require you to explicitly register matplotlib converters.\n",
            "\n",
            "To register the converters:\n",
            "\t>>> from pandas.plotting import register_matplotlib_converters\n",
            "\t>>> register_matplotlib_converters()\n",
            "  warnings.warn(msg, FutureWarning)\n",
            "/usr/local/lib/python3.6/dist-packages/ipykernel_launcher.py:11: MatplotlibDeprecationWarning: Unrecognized location 'upperleft'. Falling back on 'best'; valid locations are\n",
            "\tbest\n",
            "\tupper right\n",
            "\tupper left\n",
            "\tlower left\n",
            "\tlower right\n",
            "\tright\n",
            "\tcenter left\n",
            "\tcenter right\n",
            "\tlower center\n",
            "\tupper center\n",
            "\tcenter\n",
            "This will raise an exception in 3.3.\n",
            "  # This is added back by InteractiveShellApp.init_path()\n"
          ],
          "name": "stderr"
        },
        {
          "output_type": "display_data",
          "data": {
            "image/png": "[encoded data removed]",
            "text/plain": [
              "<Figure size 432x288 with 1 Axes>"
            ]
          },
          "metadata": {
            "tags": []
          }
        }
      ]
    },
    {
      "cell_type": "code",
      "metadata": {
        "id": "rr75yXOSpQtU",
        "colab_type": "code",
        "colab": {
          "base_uri": "https://localhost:8080/",
          "height": 455
        },
        "outputId": "9d383c05-7545-4bc4-e573-20d0c8ce1076"
      },
      "source": [
        "# Show the daily simple returns\n",
        "returns = df.pct_change()\n",
        "returns"
      ],
      "execution_count": 9,
      "outputs": [
        {
          "output_type": "execute_result",
          "data": {
            "text/html": [
              "<div>\n",
              "<style scoped>\n",
              "    .dataframe tbody tr th:only-of-type {\n",
              "        vertical-align: middle;\n",
              "    }\n",
              "\n",
              "    .dataframe tbody tr th {\n",
              "        vertical-align: top;\n",
              "    }\n",
              "\n",
              "    .dataframe thead th {\n",
              "        text-align: right;\n",
              "    }\n",
              "</style>\n",
              "<table border=\"1\" class=\"dataframe\">\n",
              "  <thead>\n",
              "    <tr style=\"text-align: right;\">\n",
              "      <th></th>\n",
              "      <th>FB</th>\n",
              "      <th>AMZN</th>\n",
              "      <th>AAPL</th>\n",
              "      <th>NFL</th>\n",
              "      <th>GOOG</th>\n",
              "    </tr>\n",
              "    <tr>\n",
              "      <th>Date</th>\n",
              "      <th></th>\n",
              "      <th></th>\n",
              "      <th></th>\n",
              "      <th></th>\n",
              "      <th></th>\n",
              "    </tr>\n",
              "  </thead>\n",
              "  <tbody>\n",
              "    <tr>\n",
              "      <th>2013-01-02</th>\n",
              "      <td>NaN</td>\n",
              "      <td>NaN</td>\n",
              "      <td>NaN</td>\n",
              "      <td>NaN</td>\n",
              "      <td>NaN</td>\n",
              "    </tr>\n",
              "    <tr>\n",
              "      <th>2013-01-03</th>\n",
              "      <td>-0.008214</td>\n",
              "      <td>0.004547</td>\n",
              "      <td>-0.012623</td>\n",
              "      <td>NaN</td>\n",
              "      <td>0.000581</td>\n",
              "    </tr>\n",
              "    <tr>\n",
              "      <th>2013-01-04</th>\n",
              "      <td>0.035650</td>\n",
              "      <td>0.002592</td>\n",
              "      <td>-0.027855</td>\n",
              "      <td>NaN</td>\n",
              "      <td>0.019760</td>\n",
              "    </tr>\n",
              "    <tr>\n",
              "      <th>2013-01-07</th>\n",
              "      <td>0.022949</td>\n",
              "      <td>0.035925</td>\n",
              "      <td>-0.005882</td>\n",
              "      <td>NaN</td>\n",
              "      <td>-0.004363</td>\n",
              "    </tr>\n",
              "    <tr>\n",
              "      <th>2013-01-08</th>\n",
              "      <td>-0.012237</td>\n",
              "      <td>-0.007748</td>\n",
              "      <td>0.002691</td>\n",
              "      <td>NaN</td>\n",
              "      <td>-0.001974</td>\n",
              "    </tr>\n",
              "    <tr>\n",
              "      <th>...</th>\n",
              "      <td>...</td>\n",
              "      <td>...</td>\n",
              "      <td>...</td>\n",
              "      <td>...</td>\n",
              "      <td>...</td>\n",
              "    </tr>\n",
              "    <tr>\n",
              "      <th>2020-03-31</th>\n",
              "      <td>0.005122</td>\n",
              "      <td>-0.007246</td>\n",
              "      <td>-0.002041</td>\n",
              "      <td>0.0</td>\n",
              "      <td>0.013943</td>\n",
              "    </tr>\n",
              "    <tr>\n",
              "      <th>2020-04-01</th>\n",
              "      <td>-0.043165</td>\n",
              "      <td>-0.021552</td>\n",
              "      <td>-0.052617</td>\n",
              "      <td>0.0</td>\n",
              "      <td>-0.049183</td>\n",
              "    </tr>\n",
              "    <tr>\n",
              "      <th>2020-04-02</th>\n",
              "      <td>-0.008835</td>\n",
              "      <td>0.005834</td>\n",
              "      <td>0.016687</td>\n",
              "      <td>0.0</td>\n",
              "      <td>0.013766</td>\n",
              "    </tr>\n",
              "    <tr>\n",
              "      <th>2020-04-03</th>\n",
              "      <td>-0.025349</td>\n",
              "      <td>-0.006379</td>\n",
              "      <td>-0.014371</td>\n",
              "      <td>0.0</td>\n",
              "      <td>-0.020485</td>\n",
              "    </tr>\n",
              "    <tr>\n",
              "      <th>2020-04-06</th>\n",
              "      <td>0.073745</td>\n",
              "      <td>0.047729</td>\n",
              "      <td>0.087237</td>\n",
              "      <td>0.0</td>\n",
              "      <td>0.081102</td>\n",
              "    </tr>\n",
              "  </tbody>\n",
              "</table>\n",
              "<p>1828 rows × 5 columns</p>\n",
              "</div>"
            ],
            "text/plain": [
              "                  FB      AMZN      AAPL  NFL      GOOG\n",
              "Date                                                   \n",
              "2013-01-02       NaN       NaN       NaN  NaN       NaN\n",
              "2013-01-03 -0.008214  0.004547 -0.012623  NaN  0.000581\n",
              "2013-01-04  0.035650  0.002592 -0.027855  NaN  0.019760\n",
              "2013-01-07  0.022949  0.035925 -0.005882  NaN -0.004363\n",
              "2013-01-08 -0.012237 -0.007748  0.002691  NaN -0.001974\n",
              "...              ...       ...       ...  ...       ...\n",
              "2020-03-31  0.005122 -0.007246 -0.002041  0.0  0.013943\n",
              "2020-04-01 -0.043165 -0.021552 -0.052617  0.0 -0.049183\n",
              "2020-04-02 -0.008835  0.005834  0.016687  0.0  0.013766\n",
              "2020-04-03 -0.025349 -0.006379 -0.014371  0.0 -0.020485\n",
              "2020-04-06  0.073745  0.047729  0.087237  0.0  0.081102\n",
              "\n",
              "[1828 rows x 5 columns]"
            ]
          },
          "metadata": {
            "tags": []
          },
          "execution_count": 9
        }
      ]
    },
    {
      "cell_type": "code",
      "metadata": {
        "id": "buAH4ELFiuRO",
        "colab_type": "code",
        "colab": {
          "base_uri": "https://localhost:8080/",
          "height": 206
        },
        "outputId": "259c5b39-8bed-44a5-a61e-1d7598bbccd6"
      },
      "source": [
        "# Create and show the annual covariance matrix\n",
        "cov_matrix_annual = returns.cov() * 252\n",
        "cov_matrix_annual"
      ],
      "execution_count": 10,
      "outputs": [
        {
          "output_type": "execute_result",
          "data": {
            "text/html": [
              "<div>\n",
              "<style scoped>\n",
              "    .dataframe tbody tr th:only-of-type {\n",
              "        vertical-align: middle;\n",
              "    }\n",
              "\n",
              "    .dataframe tbody tr th {\n",
              "        vertical-align: top;\n",
              "    }\n",
              "\n",
              "    .dataframe thead th {\n",
              "        text-align: right;\n",
              "    }\n",
              "</style>\n",
              "<table border=\"1\" class=\"dataframe\">\n",
              "  <thead>\n",
              "    <tr style=\"text-align: right;\">\n",
              "      <th></th>\n",
              "      <th>FB</th>\n",
              "      <th>AMZN</th>\n",
              "      <th>AAPL</th>\n",
              "      <th>NFL</th>\n",
              "      <th>GOOG</th>\n",
              "    </tr>\n",
              "  </thead>\n",
              "  <tbody>\n",
              "    <tr>\n",
              "      <th>FB</th>\n",
              "      <td>0.115155</td>\n",
              "      <td>0.051306</td>\n",
              "      <td>0.039754</td>\n",
              "      <td>0.0</td>\n",
              "      <td>0.047233</td>\n",
              "    </tr>\n",
              "    <tr>\n",
              "      <th>AMZN</th>\n",
              "      <td>0.051306</td>\n",
              "      <td>0.090611</td>\n",
              "      <td>0.034707</td>\n",
              "      <td>0.0</td>\n",
              "      <td>0.045922</td>\n",
              "    </tr>\n",
              "    <tr>\n",
              "      <th>AAPL</th>\n",
              "      <td>0.039754</td>\n",
              "      <td>0.034707</td>\n",
              "      <td>0.076219</td>\n",
              "      <td>0.0</td>\n",
              "      <td>0.036372</td>\n",
              "    </tr>\n",
              "    <tr>\n",
              "      <th>NFL</th>\n",
              "      <td>0.000000</td>\n",
              "      <td>0.000000</td>\n",
              "      <td>0.000000</td>\n",
              "      <td>0.0</td>\n",
              "      <td>0.000000</td>\n",
              "    </tr>\n",
              "    <tr>\n",
              "      <th>GOOG</th>\n",
              "      <td>0.047233</td>\n",
              "      <td>0.045922</td>\n",
              "      <td>0.036372</td>\n",
              "      <td>0.0</td>\n",
              "      <td>0.063655</td>\n",
              "    </tr>\n",
              "  </tbody>\n",
              "</table>\n",
              "</div>"
            ],
            "text/plain": [
              "            FB      AMZN      AAPL  NFL      GOOG\n",
              "FB    0.115155  0.051306  0.039754  0.0  0.047233\n",
              "AMZN  0.051306  0.090611  0.034707  0.0  0.045922\n",
              "AAPL  0.039754  0.034707  0.076219  0.0  0.036372\n",
              "NFL   0.000000  0.000000  0.000000  0.0  0.000000\n",
              "GOOG  0.047233  0.045922  0.036372  0.0  0.063655"
            ]
          },
          "metadata": {
            "tags": []
          },
          "execution_count": 10
        }
      ]
    },
    {
      "cell_type": "code",
      "metadata": {
        "id": "Q2HfvSwZjHzA",
        "colab_type": "code",
        "colab": {
          "base_uri": "https://localhost:8080/",
          "height": 34
        },
        "outputId": "88d7fe36-40c5-4b3a-8a25-f0cfb2743f66"
      },
      "source": [
        "# Calculate the portfolio variance\n",
        "port_variance = np.dot(weights.T, np.dot(cov_matrix_annual, weights))\n",
        "port_variance"
      ],
      "execution_count": 11,
      "outputs": [
        {
          "output_type": "execute_result",
          "data": {
            "text/plain": [
              "0.03424909064348493"
            ]
          },
          "metadata": {
            "tags": []
          },
          "execution_count": 11
        }
      ]
    },
    {
      "cell_type": "code",
      "metadata": {
        "id": "ODiCx-PSjZgy",
        "colab_type": "code",
        "colab": {
          "base_uri": "https://localhost:8080/",
          "height": 34
        },
        "outputId": "035298f5-b3bb-42a5-f371-3e19b34afe3b"
      },
      "source": [
        "# Calculate the portfolio volatility (stddev)\n",
        "portfolio_volatility = np.sqrt(port_variance)\n",
        "portfolio_volatility"
      ],
      "execution_count": 12,
      "outputs": [
        {
          "output_type": "execute_result",
          "data": {
            "text/plain": [
              "0.1850650983937407"
            ]
          },
          "metadata": {
            "tags": []
          },
          "execution_count": 12
        }
      ]
    },
    {
      "cell_type": "code",
      "metadata": {
        "id": "PCuJI91HjnKF",
        "colab_type": "code",
        "colab": {
          "base_uri": "https://localhost:8080/",
          "height": 34
        },
        "outputId": "6ac4d7a2-3f5e-46e8-b0e4-ea384e3899a5"
      },
      "source": [
        "# Calculate the annual portfolio return\n",
        "portfolio_simple_annual_return = np.sum(returns.mean() * weights) * 252\n",
        "portfolio_simple_annual_return"
      ],
      "execution_count": 13,
      "outputs": [
        {
          "output_type": "execute_result",
          "data": {
            "text/plain": [
              "0.20984279195356745"
            ]
          },
          "metadata": {
            "tags": []
          },
          "execution_count": 13
        }
      ]
    },
    {
      "cell_type": "code",
      "metadata": {
        "id": "M4YV5Vj6j1fo",
        "colab_type": "code",
        "colab": {
          "base_uri": "https://localhost:8080/",
          "height": 69
        },
        "outputId": "a09715fa-a91b-4b98-91ad-6dbc5c56ba9b"
      },
      "source": [
        "# Show all these variables\n",
        "percent_var = str(round(port_variance, 2) * 100) + '%'\n",
        "percent_vols = str(round(portfolio_volatility, 2) * 100) + '%'\n",
        "percent_ret = str(round(portfolio_simple_annual_return, 2) * 100) + '%'\n",
        "\n",
        "print('Expected annual return ' + percent_ret)\n",
        "print('Expected annual volatoloty / risk ' + percent_vols)\n",
        "print('Expected annual variance ' + percent_var)"
      ],
      "execution_count": 14,
      "outputs": [
        {
          "output_type": "stream",
          "text": [
            "Expected annual return 21.0%\n",
            "Expected annual volatoloty / risk 19.0%\n",
            "Expected annual variance 3.0%\n"
          ],
          "name": "stdout"
        }
      ]
    },
    {
      "cell_type": "code",
      "metadata": {
        "id": "1jyUV0--keXC",
        "colab_type": "code",
        "colab": {
          "base_uri": "https://localhost:8080/",
          "height": 260
        },
        "outputId": "3fe3ff56-8fdb-48b1-e674-1ab9259d9bec"
      },
      "source": [
        "pip install PyPortfolioOpt"
      ],
      "execution_count": 15,
      "outputs": [
        {
          "output_type": "stream",
          "text": [
            "Requirement already satisfied: PyPortfolioOpt in /usr/local/lib/python3.6/dist-packages (1.0.1)\n",
            "Requirement already satisfied: scipy in /usr/local/lib/python3.6/dist-packages (from PyPortfolioOpt) (1.4.1)\n",
            "Requirement already satisfied: numpy in /usr/local/lib/python3.6/dist-packages (from PyPortfolioOpt) (1.18.2)\n",
            "Requirement already satisfied: cvxpy<2.0.0,>=1.0.28 in /usr/local/lib/python3.6/dist-packages (from PyPortfolioOpt) (1.0.29)\n",
            "Requirement already satisfied: pandas<0.26.0,>=0.25.3 in /usr/local/lib/python3.6/dist-packages (from PyPortfolioOpt) (0.25.3)\n",
            "Requirement already satisfied: osqp>=0.4.1 in /usr/local/lib/python3.6/dist-packages (from cvxpy<2.0.0,>=1.0.28->PyPortfolioOpt) (0.6.1)\n",
            "Requirement already satisfied: scs>=1.1.3 in /usr/local/lib/python3.6/dist-packages (from cvxpy<2.0.0,>=1.0.28->PyPortfolioOpt) (2.1.2)\n",
            "Requirement already satisfied: multiprocess in /usr/local/lib/python3.6/dist-packages (from cvxpy<2.0.0,>=1.0.28->PyPortfolioOpt) (0.70.9)\n",
            "Requirement already satisfied: ecos>=2 in /usr/local/lib/python3.6/dist-packages (from cvxpy<2.0.0,>=1.0.28->PyPortfolioOpt) (2.0.7.post1)\n",
            "Requirement already satisfied: pytz>=2017.2 in /usr/local/lib/python3.6/dist-packages (from pandas<0.26.0,>=0.25.3->PyPortfolioOpt) (2018.9)\n",
            "Requirement already satisfied: python-dateutil>=2.6.1 in /usr/local/lib/python3.6/dist-packages (from pandas<0.26.0,>=0.25.3->PyPortfolioOpt) (2.8.1)\n",
            "Requirement already satisfied: future in /usr/local/lib/python3.6/dist-packages (from osqp>=0.4.1->cvxpy<2.0.0,>=1.0.28->PyPortfolioOpt) (0.16.0)\n",
            "Requirement already satisfied: dill>=0.3.1 in /usr/local/lib/python3.6/dist-packages (from multiprocess->cvxpy<2.0.0,>=1.0.28->PyPortfolioOpt) (0.3.1.1)\n",
            "Requirement already satisfied: six>=1.5 in /usr/local/lib/python3.6/dist-packages (from python-dateutil>=2.6.1->pandas<0.26.0,>=0.25.3->PyPortfolioOpt) (1.12.0)\n"
          ],
          "name": "stdout"
        }
      ]
    },
    {
      "cell_type": "code",
      "metadata": {
        "id": "2PWjldaXkr9I",
        "colab_type": "code",
        "colab": {}
      },
      "source": [
        "from pypfopt.efficient_frontier import EfficientFrontier\n",
        "from pypfopt import risk_models\n",
        "from pypfopt import expected_returns"
      ],
      "execution_count": 0,
      "outputs": []
    },
    {
      "cell_type": "code",
      "metadata": {
        "id": "WZ6em3CAlExm",
        "colab_type": "code",
        "colab": {
          "base_uri": "https://localhost:8080/",
          "height": 104
        },
        "outputId": "eb6883a1-ca74-4a81-ad3c-60f4645b3993"
      },
      "source": [
        "# Portfolio optimization\n",
        "\n",
        "#Calculate expected returns and the annualized covariance matrix\n",
        "mu = expected_returns.mean_historical_return(df)\n",
        "S = risk_models.sample_cov(df)\n",
        "\n",
        "# Optimize to maximize the sharpe ratio\n",
        "ef = EfficientFrontier(mu, S)\n",
        "weights = ef.max_sharpe()\n",
        "cleaned_weights = ef.clean_weights()\n",
        "\n",
        "# Optimized portfolio performance, note it performs better than the hardcoded porfolio we did at the begining\n",
        "print(cleaned_weights)\n",
        "ef.portfolio_performance(verbose=True)"
      ],
      "execution_count": 18,
      "outputs": [
        {
          "output_type": "stream",
          "text": [
            "{'FB': 0.22565, 'AMZN': 0.54342, 'AAPL': 0.23093, 'NFL': 0.0, 'GOOG': 0.0}\n",
            "Expected annual return: 29.8%\n",
            "Annual volatility: 24.9%\n",
            "Sharpe Ratio: 1.11\n"
          ],
          "name": "stdout"
        },
        {
          "output_type": "execute_result",
          "data": {
            "text/plain": [
              "(0.2978898464076871, 0.24924404086415347, 1.1149307539880025)"
            ]
          },
          "metadata": {
            "tags": []
          },
          "execution_count": 18
        }
      ]
    },
    {
      "cell_type": "code",
      "metadata": {
        "id": "9pNFvegzmCo3",
        "colab_type": "code",
        "colab": {
          "base_uri": "https://localhost:8080/",
          "height": 52
        },
        "outputId": "b0f7e4da-e861-471b-c5ea-fd65e3774ab8"
      },
      "source": [
        "# Get the discrete allocation of each share per stock\n",
        "from pypfopt.discrete_allocation import DiscreteAllocation, get_latest_prices\n",
        "\n",
        "latest_prices = get_latest_prices(df)\n",
        "weights = cleaned_weights\n",
        "discrete_allocation = DiscreteAllocation(weights, latest_prices, total_portfolio_value = 15000)\n",
        "allocation, leftover = discrete_allocation.lp_portfolio()\n",
        "\n",
        "# Number of shares of each stock we should buy \n",
        "print('Discrete allocation', allocation)\n",
        "\n",
        "# Remaining money we will have\n",
        "print('Funds remaining: ${:.2f}'.format(leftover))\n"
      ],
      "execution_count": 20,
      "outputs": [
        {
          "output_type": "stream",
          "text": [
            "Discrete allocation {'FB': 21.0, 'AMZN': 4.0, 'AAPL': 13.0}\n",
            "Funds remaining: $120.98\n"
          ],
          "name": "stdout"
        }
      ]
    }
  ]
}
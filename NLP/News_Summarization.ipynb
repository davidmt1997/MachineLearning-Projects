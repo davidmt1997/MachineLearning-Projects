{
  "nbformat": 4,
  "nbformat_minor": 0,
  "metadata": {
    "colab": {
      "name": "News Summarization.ipynb",
      "provenance": [],
      "collapsed_sections": []
    },
    "kernelspec": {
      "name": "python3",
      "display_name": "Python 3"
    }
  },
  "cells": [
    {
      "cell_type": "markdown",
      "metadata": {
        "id": "GV2HJVTjYeb5",
        "colab_type": "text"
      },
      "source": [
        "##News summarization using nltk and custom functions"
      ]
    },
    {
      "cell_type": "code",
      "metadata": {
        "id": "aqLCNHarScsE",
        "colab_type": "code",
        "colab": {}
      },
      "source": [
        "import numpy as np\n",
        "import nltk\n",
        "import re"
      ],
      "execution_count": 1,
      "outputs": []
    },
    {
      "cell_type": "code",
      "metadata": {
        "id": "Xv2eBzIvWKVy",
        "colab_type": "code",
        "colab": {
          "base_uri": "https://localhost:8080/",
          "height": 73
        },
        "outputId": "2f585c30-3c34-4f98-e5ad-f2ac3e73a44c"
      },
      "source": [
        "nltk.download('punkt')"
      ],
      "execution_count": 9,
      "outputs": [
        {
          "output_type": "stream",
          "text": [
            "[nltk_data] Downloading package punkt to /root/nltk_data...\n",
            "[nltk_data]   Unzipping tokenizers/punkt.zip.\n"
          ],
          "name": "stdout"
        },
        {
          "output_type": "execute_result",
          "data": {
            "text/plain": [
              "True"
            ]
          },
          "metadata": {
            "tags": []
          },
          "execution_count": 9
        }
      ]
    },
    {
      "cell_type": "code",
      "metadata": {
        "id": "TiBQrGw3Sedq",
        "colab_type": "code",
        "colab": {}
      },
      "source": [
        "# Helper functions for preprocessing\n",
        "def casefolding(sentence):\n",
        "    return sentence.lower()\n",
        "\n",
        "def cleaning(sentence):\n",
        "    return re.sub(r'[^a-z]', ' ', re.sub(\"’\", '', sentence))\n",
        "\n",
        "def tokenization(sentence):\n",
        "    return sentence.split()"
      ],
      "execution_count": 2,
      "outputs": []
    },
    {
      "cell_type": "code",
      "metadata": {
        "id": "ENO0MhiES0Zo",
        "colab_type": "code",
        "colab": {}
      },
      "source": [
        "# Helper function to transform the text into a collection of sentences\n",
        "def sentence_split(paragraph):\n",
        "    return nltk.sent_tokenize(paragraph)"
      ],
      "execution_count": 3,
      "outputs": []
    },
    {
      "cell_type": "code",
      "metadata": {
        "id": "RNSSdgKhTE-F",
        "colab_type": "code",
        "colab": {}
      },
      "source": [
        "#Count the number of words in the document\n",
        "def word_freq(data):\n",
        "    w = []\n",
        "    for sentence in data:\n",
        "        for words in sentence:\n",
        "            w.append(words)\n",
        "    bag = list(set(w))\n",
        "    res = {}\n",
        "    for word in bag:\n",
        "        res[word] = w.count(word)\n",
        "    return res"
      ],
      "execution_count": 4,
      "outputs": []
    },
    {
      "cell_type": "code",
      "metadata": {
        "id": "dYzvkWZ5TSZs",
        "colab_type": "code",
        "colab": {}
      },
      "source": [
        "# After that we calculate the weight of each sentence of the text\n",
        "# This returns the sentence that best represents the whole story\n",
        "def sentence_weight(data):\n",
        "    weights = []\n",
        "    for words in data:\n",
        "        temp = 0\n",
        "        for word in words:\n",
        "            temp += wordfreq[word]\n",
        "        weights.append(temp)\n",
        "    return weights"
      ],
      "execution_count": 6,
      "outputs": []
    },
    {
      "cell_type": "code",
      "metadata": {
        "id": "iVIi6dWXT-22",
        "colab_type": "code",
        "colab": {}
      },
      "source": [
        "news = \"\"\"\n",
        "IIn a time in which even a virus has become the subject of partisan disinformation and myth-making, it’s essential that mainstream journalistic institutions reaffirm their bona fides as disinterested purveyors of fact and honest brokers of controversy. In this regard, a recent course of action by the New York Times is cause for alarm.On December 27, 2019, the Times published a column by their opinion journalist Bret Stephens, “The Secrets of Jewish Genius,” and the ensuing controversy led to an extraordinary response by the editors.Stephens took up the question of why Ashkenazi Jews are statistically overrepresented in intellectual and creative fields. This disparity has been documented for many years, such as in the 1995 book Jews and the New American Scene by the eminent sociologists Seymour Martin Lipset and Earl Raab. In his Times column, Stephens cited statistics from a more recent peer-reviewed academic paper, coauthored by an elected member of the National Academy of Sciences. Though the authors of that paper advanced a genetic hypothesis for the overrepresentation, arguing that Ashkenazi Jews have the highest average IQ of any ethnic group because of inherited traits, Stephens did not take up that argument. In fact, his essay quickly set it aside and argued that the real roots of Jewish achievement are culturally and historically engendered habits of mind.Nonetheless, the column incited a furious and ad hominem response. Detractors discovered that one of the authors of the paper Stephens had cited went on to express racist views, and falsely claimed that Stephens himself had advanced ideas that were “genetic” (he did not), “racist” (he made no remarks about any race) and “eugenicist” (alluding to the discredited political movement to improve the human species by selective breeding, which was not remotely related to anything Stephens wrote).It would have been appropriate for the New York Times to acknowledge the controversy, to publish one or more replies, and to allow Stephens and his critics to clarify the issues. Instead, the editors deleted parts of the column—not because anything in it had been shown to be factually incorrect but because it had become controversial.Worse, the explanation for the deletions in the Editors’ Note was not accurate about the edits the paper made after publication. The editors did not just remove “reference to the study.” They expurgated the article’s original subtitle (which explicitly stated “It’s not about having higher IQs”), two mentions of Jewish IQs, and a list of statistics about Jewish accomplishment: “During the 20th century, [Ashkenazi Jews] made up about 3 percent of the U.S. population but won 27 percent of the U.S. Nobel science prizes and 25 percent of the ACM Turing awards. They account for more than half of world chess champions.” These statistics about Jewish accomplishments were quoted directly from the study, but they originated in other studies. So, even if the Times editors wanted to disavow the paper Stephens referenced, the newspaper could have replaced the passage with quotes from the original sources.The Times’ handling of this column sets three pernicious precedents for American journalism.First, while we cannot know what drove the editors’ decision, the outward appearance is that they surrendered to an outrage mob, in the process giving an imprimatur of legitimacy to the false and ad hominem attacks against Stephens. The Editors’ Note explains that Stephens “was not endorsing the study or its authors’ views,” and that it was not his intent to “leave an impression with many readers that [he] was arguing that Jews are genetically superior.” The combination of the explanation and the post-publication revision implied that such an impression was reasonable. It was not.Unless the Times reverses course, we can expect to see more such mobs, more retractions, and also preemptive rejections from editors fearful of having to make such retractions. Newspapers risk forfeiting decisions to air controversial or unorthodox ideas to outrage mobs, which are driven by the passions of their most ideological police rather than the health of the intellectual commons.Second, the Times redacted a published essay based on concerns about retroactive moral pollution, not about accuracy. While it is true that an author of the paper Stephens mentioned, the late anthropologist Henry Harpending, made some deplorable racist remarks, that does not mean that every point in every paper he ever coauthored must be deemed radioactive. Facts and arguments must be evaluated on their content. Will the Times and other newspapers now monitor the speech of scientists and scholars and censor articles that cite any of them who, years later, say something offensive? Will it crowdsource that job to Twitter and then redact its online editions whenever anyone quoted in the Times is later “canceled”?Third, for the Times to “disappear” passages of a published article into an inaccessible memory hole is an Orwellian act that, thanks to the newspaper’s actions, might now be seen as acceptable journalistic practice. It is all the worse when the editors’ published account of what they deleted is itself inaccurate. This does a disservice to readers, historians and journalists, who are left unable to determine for themselves what the controversy was about, and to Stephens, who is left unable to defend himself against readers’ worst suspicions.We strongly oppose racism, anti-Semitism and all forms of bigotry. And we believe that the best means of combating them is the open exchange of ideas. The Times’ retroactive censoring of passages of a published article appears to endorse a different view. And in doing so, it hands ammunition to the cynics and obfuscators who claim that every news source is merely an organ for its political coalition.\"\"\""
      ],
      "execution_count": 7,
      "outputs": []
    },
    {
      "cell_type": "code",
      "metadata": {
        "id": "0dQTkbccVtXi",
        "colab_type": "code",
        "colab": {}
      },
      "source": [
        "# Process the news by using the helper functions defined above\n",
        "sentence_list = sentence_split(news)\n",
        "data = []\n",
        "for sentence in sentence_list:\n",
        "    data.append(tokenization(cleaning(casefolding(sentence))))\n",
        "data = (list(filter(None, data)))"
      ],
      "execution_count": 10,
      "outputs": []
    },
    {
      "cell_type": "code",
      "metadata": {
        "id": "mB2-W_MqWF4z",
        "colab_type": "code",
        "colab": {
          "base_uri": "https://localhost:8080/",
          "height": 1000
        },
        "outputId": "3daf709d-db0c-4f56-8925-252969460a46"
      },
      "source": [
        "# Count the number of words in the document\n",
        "wordfreq = word_freq(data)\n",
        "wordfreq"
      ],
      "execution_count": 17,
      "outputs": [
        {
          "output_type": "execute_result",
          "data": {
            "text/plain": [
              "{'a': 13,\n",
              " 'about': 9,\n",
              " 'academic': 1,\n",
              " 'academy': 1,\n",
              " 'acceptable': 1,\n",
              " 'accomplishment': 1,\n",
              " 'accomplishments': 1,\n",
              " 'account': 2,\n",
              " 'accuracy': 1,\n",
              " 'accurate': 1,\n",
              " 'achievement': 1,\n",
              " 'acknowledge': 1,\n",
              " 'acm': 1,\n",
              " 'act': 1,\n",
              " 'action': 1,\n",
              " 'actions': 1,\n",
              " 'ad': 2,\n",
              " 'advanced': 2,\n",
              " 'after': 1,\n",
              " 'against': 2,\n",
              " 'air': 1,\n",
              " 'alarm': 1,\n",
              " 'all': 2,\n",
              " 'allow': 1,\n",
              " 'alluding': 1,\n",
              " 'also': 1,\n",
              " 'american': 2,\n",
              " 'ammunition': 1,\n",
              " 'an': 10,\n",
              " 'and': 30,\n",
              " 'anthropologist': 1,\n",
              " 'anti': 1,\n",
              " 'any': 3,\n",
              " 'anyone': 1,\n",
              " 'anything': 2,\n",
              " 'appearance': 1,\n",
              " 'appears': 1,\n",
              " 'appropriate': 1,\n",
              " 'are': 5,\n",
              " 'argued': 1,\n",
              " 'arguing': 2,\n",
              " 'argument': 1,\n",
              " 'arguments': 1,\n",
              " 'article': 2,\n",
              " 'articles': 2,\n",
              " 'as': 3,\n",
              " 'ashkenazi': 3,\n",
              " 'aside': 1,\n",
              " 'attacks': 1,\n",
              " 'author': 1,\n",
              " 'authors': 3,\n",
              " 'average': 1,\n",
              " 'awards': 1,\n",
              " 'based': 1,\n",
              " 'be': 4,\n",
              " 'because': 3,\n",
              " 'become': 2,\n",
              " 'been': 3,\n",
              " 'believe': 1,\n",
              " 'best': 1,\n",
              " 'bigotry': 1,\n",
              " 'bona': 1,\n",
              " 'book': 1,\n",
              " 'breeding': 1,\n",
              " 'bret': 1,\n",
              " 'brokers': 1,\n",
              " 'but': 3,\n",
              " 'by': 7,\n",
              " 'can': 1,\n",
              " 'canceled': 1,\n",
              " 'cannot': 1,\n",
              " 'cause': 1,\n",
              " 'censor': 1,\n",
              " 'censoring': 1,\n",
              " 'century': 1,\n",
              " 'champions': 1,\n",
              " 'chess': 1,\n",
              " 'cite': 1,\n",
              " 'cited': 2,\n",
              " 'claim': 1,\n",
              " 'claimed': 1,\n",
              " 'clarify': 1,\n",
              " 'coalition': 1,\n",
              " 'coauthored': 2,\n",
              " 'column': 5,\n",
              " 'combating': 1,\n",
              " 'combination': 1,\n",
              " 'commons': 1,\n",
              " 'concerns': 1,\n",
              " 'content': 1,\n",
              " 'controversial': 2,\n",
              " 'controversy': 4,\n",
              " 'could': 1,\n",
              " 'course': 2,\n",
              " 'creative': 1,\n",
              " 'critics': 1,\n",
              " 'crowdsource': 1,\n",
              " 'culturally': 1,\n",
              " 'cynics': 1,\n",
              " 'december': 1,\n",
              " 'decision': 1,\n",
              " 'decisions': 1,\n",
              " 'deemed': 1,\n",
              " 'defend': 1,\n",
              " 'deleted': 2,\n",
              " 'deletions': 1,\n",
              " 'deplorable': 1,\n",
              " 'determine': 1,\n",
              " 'detractors': 1,\n",
              " 'did': 3,\n",
              " 'different': 1,\n",
              " 'directly': 1,\n",
              " 'disappear': 1,\n",
              " 'disavow': 1,\n",
              " 'discovered': 1,\n",
              " 'discredited': 1,\n",
              " 'disinformation': 1,\n",
              " 'disinterested': 1,\n",
              " 'disparity': 1,\n",
              " 'disservice': 1,\n",
              " 'documented': 1,\n",
              " 'does': 2,\n",
              " 'doing': 1,\n",
              " 'driven': 1,\n",
              " 'drove': 1,\n",
              " 'during': 1,\n",
              " 'earl': 1,\n",
              " 'editions': 1,\n",
              " 'editors': 9,\n",
              " 'edits': 1,\n",
              " 'elected': 1,\n",
              " 'eminent': 1,\n",
              " 'endorse': 1,\n",
              " 'endorsing': 1,\n",
              " 'engendered': 1,\n",
              " 'ensuing': 1,\n",
              " 'essay': 2,\n",
              " 'essential': 1,\n",
              " 'ethnic': 1,\n",
              " 'eugenicist': 1,\n",
              " 'evaluated': 1,\n",
              " 'even': 2,\n",
              " 'ever': 1,\n",
              " 'every': 3,\n",
              " 'exchange': 1,\n",
              " 'expect': 1,\n",
              " 'explains': 1,\n",
              " 'explanation': 2,\n",
              " 'explicitly': 1,\n",
              " 'express': 1,\n",
              " 'expurgated': 1,\n",
              " 'extraordinary': 1,\n",
              " 'fact': 2,\n",
              " 'facts': 1,\n",
              " 'factually': 1,\n",
              " 'false': 1,\n",
              " 'falsely': 1,\n",
              " 'fearful': 1,\n",
              " 'fides': 1,\n",
              " 'fields': 1,\n",
              " 'first': 1,\n",
              " 'for': 10,\n",
              " 'forfeiting': 1,\n",
              " 'forms': 1,\n",
              " 'from': 4,\n",
              " 'furious': 1,\n",
              " 'genetic': 2,\n",
              " 'genetically': 1,\n",
              " 'genius': 1,\n",
              " 'giving': 1,\n",
              " 'group': 1,\n",
              " 'habits': 1,\n",
              " 'had': 4,\n",
              " 'half': 1,\n",
              " 'handling': 1,\n",
              " 'hands': 1,\n",
              " 'harpending': 1,\n",
              " 'has': 2,\n",
              " 'have': 3,\n",
              " 'having': 2,\n",
              " 'he': 4,\n",
              " 'health': 1,\n",
              " 'henry': 1,\n",
              " 'higher': 1,\n",
              " 'highest': 1,\n",
              " 'himself': 2,\n",
              " 'his': 4,\n",
              " 'historians': 1,\n",
              " 'historically': 1,\n",
              " 'hole': 1,\n",
              " 'hominem': 2,\n",
              " 'honest': 1,\n",
              " 'human': 1,\n",
              " 'hypothesis': 1,\n",
              " 'ideas': 3,\n",
              " 'ideological': 1,\n",
              " 'if': 1,\n",
              " 'iin': 1,\n",
              " 'implied': 1,\n",
              " 'impression': 2,\n",
              " 'imprimatur': 1,\n",
              " 'improve': 1,\n",
              " 'in': 13,\n",
              " 'inaccessible': 1,\n",
              " 'inaccurate': 1,\n",
              " 'incited': 1,\n",
              " 'incorrect': 1,\n",
              " 'inherited': 1,\n",
              " 'instead': 1,\n",
              " 'institutions': 1,\n",
              " 'intellectual': 2,\n",
              " 'intent': 1,\n",
              " 'into': 1,\n",
              " 'iq': 1,\n",
              " 'iqs': 2,\n",
              " 'is': 10,\n",
              " 'issues': 1,\n",
              " 'it': 10,\n",
              " 'its': 5,\n",
              " 'itself': 1,\n",
              " 'jewish': 5,\n",
              " 'jews': 5,\n",
              " 'job': 1,\n",
              " 'journalism': 1,\n",
              " 'journalist': 1,\n",
              " 'journalistic': 2,\n",
              " 'journalists': 1,\n",
              " 'just': 1,\n",
              " 'know': 1,\n",
              " 'late': 1,\n",
              " 'later': 2,\n",
              " 'leave': 1,\n",
              " 'led': 1,\n",
              " 'left': 2,\n",
              " 'legitimacy': 1,\n",
              " 'lipset': 1,\n",
              " 'list': 1,\n",
              " 'made': 4,\n",
              " 'mainstream': 1,\n",
              " 'make': 1,\n",
              " 'making': 1,\n",
              " 'many': 2,\n",
              " 'martin': 1,\n",
              " 'mean': 1,\n",
              " 'means': 1,\n",
              " 'member': 1,\n",
              " 'memory': 1,\n",
              " 'mentioned': 1,\n",
              " 'mentions': 1,\n",
              " 'merely': 1,\n",
              " 'might': 1,\n",
              " 'mind': 1,\n",
              " 'mob': 1,\n",
              " 'mobs': 2,\n",
              " 'monitor': 1,\n",
              " 'moral': 1,\n",
              " 'more': 5,\n",
              " 'most': 1,\n",
              " 'movement': 1,\n",
              " 'must': 2,\n",
              " 'myth': 1,\n",
              " 'national': 1,\n",
              " 'new': 3,\n",
              " 'news': 1,\n",
              " 'newspaper': 1,\n",
              " 'newspapers': 3,\n",
              " 'no': 1,\n",
              " 'nobel': 1,\n",
              " 'nonetheless': 1,\n",
              " 'not': 12,\n",
              " 'note': 2,\n",
              " 'now': 2,\n",
              " 'obfuscators': 1,\n",
              " 'of': 38,\n",
              " 'offensive': 1,\n",
              " 'on': 4,\n",
              " 'one': 2,\n",
              " 'online': 1,\n",
              " 'open': 1,\n",
              " 'opinion': 1,\n",
              " 'oppose': 1,\n",
              " 'or': 3,\n",
              " 'organ': 1,\n",
              " 'original': 2,\n",
              " 'originated': 1,\n",
              " 'orwellian': 1,\n",
              " 'other': 2,\n",
              " 'outrage': 2,\n",
              " 'outward': 1,\n",
              " 'overrepresentation': 1,\n",
              " 'overrepresented': 1,\n",
              " 'paper': 7,\n",
              " 'partisan': 1,\n",
              " 'parts': 1,\n",
              " 'passage': 1,\n",
              " 'passages': 2,\n",
              " 'passions': 1,\n",
              " 'peer': 1,\n",
              " 'percent': 3,\n",
              " 'pernicious': 1,\n",
              " 'point': 1,\n",
              " 'police': 1,\n",
              " 'political': 2,\n",
              " 'pollution': 1,\n",
              " 'population': 1,\n",
              " 'post': 1,\n",
              " 'practice': 1,\n",
              " 'precedents': 1,\n",
              " 'preemptive': 1,\n",
              " 'prizes': 1,\n",
              " 'process': 1,\n",
              " 'publication': 2,\n",
              " 'publish': 1,\n",
              " 'published': 5,\n",
              " 'purveyors': 1,\n",
              " 'question': 1,\n",
              " 'quickly': 1,\n",
              " 'quoted': 2,\n",
              " 'quotes': 1,\n",
              " 'raab': 1,\n",
              " 'race': 1,\n",
              " 'racism': 1,\n",
              " 'racist': 3,\n",
              " 'radioactive': 1,\n",
              " 'rather': 1,\n",
              " 'readers': 3,\n",
              " 'reaffirm': 1,\n",
              " 'real': 1,\n",
              " 'reasonable': 1,\n",
              " 'recent': 2,\n",
              " 'redact': 1,\n",
              " 'redacted': 1,\n",
              " 'reference': 1,\n",
              " 'referenced': 1,\n",
              " 'regard': 1,\n",
              " 'rejections': 1,\n",
              " 'related': 1,\n",
              " 'remarks': 2,\n",
              " 'remotely': 1,\n",
              " 'remove': 1,\n",
              " 'replaced': 1,\n",
              " 'replies': 1,\n",
              " 'response': 2,\n",
              " 'retractions': 2,\n",
              " 'retroactive': 2,\n",
              " 'reverses': 1,\n",
              " 'reviewed': 1,\n",
              " 'revision': 1,\n",
              " 'risk': 1,\n",
              " 'roots': 1,\n",
              " 's': 2,\n",
              " 'say': 1,\n",
              " 'scene': 1,\n",
              " 'scholars': 1,\n",
              " 'science': 1,\n",
              " 'sciences': 1,\n",
              " 'scientists': 1,\n",
              " 'second': 1,\n",
              " 'secrets': 1,\n",
              " 'see': 1,\n",
              " 'seen': 1,\n",
              " 'selective': 1,\n",
              " 'semitism': 1,\n",
              " 'set': 1,\n",
              " 'sets': 1,\n",
              " 'seymour': 1,\n",
              " 'shown': 1,\n",
              " 'so': 2,\n",
              " 'sociologists': 1,\n",
              " 'some': 1,\n",
              " 'something': 1,\n",
              " 'source': 1,\n",
              " 'sources': 1,\n",
              " 'species': 1,\n",
              " 'speech': 1,\n",
              " 'stated': 1,\n",
              " 'statistically': 1,\n",
              " 'statistics': 3,\n",
              " 'stephens': 13,\n",
              " 'strongly': 1,\n",
              " 'studies': 1,\n",
              " 'study': 3,\n",
              " 'subject': 1,\n",
              " 'subtitle': 1,\n",
              " 'such': 4,\n",
              " 'superior': 1,\n",
              " 'surrendered': 1,\n",
              " 'suspicions': 1,\n",
              " 'take': 1,\n",
              " 'th': 1,\n",
              " 'than': 2,\n",
              " 'thanks': 1,\n",
              " 'that': 22,\n",
              " 'the': 72,\n",
              " 'their': 4,\n",
              " 'them': 2,\n",
              " 'themselves': 1,\n",
              " 'then': 1,\n",
              " 'these': 1,\n",
              " 'they': 5,\n",
              " 'third': 1,\n",
              " 'this': 4,\n",
              " 'though': 1,\n",
              " 'three': 1,\n",
              " 'time': 1,\n",
              " 'times': 12,\n",
              " 'to': 28,\n",
              " 'took': 1,\n",
              " 'traits': 1,\n",
              " 'true': 1,\n",
              " 'turing': 1,\n",
              " 'twitter': 1,\n",
              " 'two': 1,\n",
              " 'u': 2,\n",
              " 'unable': 2,\n",
              " 'unless': 1,\n",
              " 'unorthodox': 1,\n",
              " 'up': 3,\n",
              " 'view': 1,\n",
              " 'views': 2,\n",
              " 'virus': 1,\n",
              " 'wanted': 1,\n",
              " 'was': 8,\n",
              " 'we': 4,\n",
              " 'went': 1,\n",
              " 'were': 2,\n",
              " 'what': 3,\n",
              " 'when': 1,\n",
              " 'whenever': 1,\n",
              " 'which': 4,\n",
              " 'while': 2,\n",
              " 'who': 4,\n",
              " 'why': 1,\n",
              " 'will': 2,\n",
              " 'with': 2,\n",
              " 'won': 1,\n",
              " 'world': 1,\n",
              " 'worse': 2,\n",
              " 'worst': 1,\n",
              " 'would': 1,\n",
              " 'wrote': 1,\n",
              " 'years': 2,\n",
              " 'york': 2}"
            ]
          },
          "metadata": {
            "tags": []
          },
          "execution_count": 17
        }
      ]
    },
    {
      "cell_type": "code",
      "metadata": {
        "id": "4V13VWieWWWb",
        "colab_type": "code",
        "colab": {
          "base_uri": "https://localhost:8080/",
          "height": 448
        },
        "outputId": "4c21f5df-c49c-44e4-eb4d-7633fcd74c80"
      },
      "source": [
        "# And calculate the weight for each sentence\n",
        "rank = sentence_weight(data)\n",
        "rank"
      ],
      "execution_count": 18,
      "outputs": [
        {
          "output_type": "execute_result",
          "data": {
            "text/plain": [
              "[355,\n",
              " 876,\n",
              " 347,\n",
              " 258,\n",
              " 495,\n",
              " 412,\n",
              " 1253,\n",
              " 750,\n",
              " 956,\n",
              " 194,\n",
              " 1139,\n",
              " 772,\n",
              " 293,\n",
              " 547,\n",
              " 375,\n",
              " 48,\n",
              " 377,\n",
              " 580,\n",
              " 245,\n",
              " 440,\n",
              " 297,\n",
              " 230,\n",
              " 262]"
            ]
          },
          "metadata": {
            "tags": []
          },
          "execution_count": 18
        }
      ]
    },
    {
      "cell_type": "code",
      "metadata": {
        "id": "ysKRVeRKWd_h",
        "colab_type": "code",
        "colab": {}
      },
      "source": [
        "# Pick the 2 main sentences to output the news summary\n",
        "n = 2\n",
        "result = ''\n",
        "sort_list = np.argsort(rank)[::-1][:n]\n",
        "for i in range(n):\n",
        "    result += '{} '.format(sentence_list[sort_list[i]])"
      ],
      "execution_count": 20,
      "outputs": []
    },
    {
      "cell_type": "code",
      "metadata": {
        "id": "quYy6Ys2XKx3",
        "colab_type": "code",
        "colab": {
          "base_uri": "https://localhost:8080/",
          "height": 56
        },
        "outputId": "bb6941e0-42ba-4a58-866f-8d5224c22b19"
      },
      "source": [
        "print(result)"
      ],
      "execution_count": 21,
      "outputs": [
        {
          "output_type": "stream",
          "text": [
            "Detractors discovered that one of the authors of the paper Stephens had cited went on to express racist views, and falsely claimed that Stephens himself had advanced ideas that were “genetic” (he did not), “racist” (he made no remarks about any race) and “eugenicist” (alluding to the discredited political movement to improve the human species by selective breeding, which was not remotely related to anything Stephens wrote).It would have been appropriate for the New York Times to acknowledge the controversy, to publish one or more replies, and to allow Stephens and his critics to clarify the issues. So, even if the Times editors wanted to disavow the paper Stephens referenced, the newspaper could have replaced the passage with quotes from the original sources.The Times’ handling of this column sets three pernicious precedents for American journalism.First, while we cannot know what drove the editors’ decision, the outward appearance is that they surrendered to an outrage mob, in the process giving an imprimatur of legitimacy to the false and ad hominem attacks against Stephens. \n"
          ],
          "name": "stdout"
        }
      ]
    },
    {
      "cell_type": "markdown",
      "metadata": {
        "id": "p5ppXKW_YlCx",
        "colab_type": "text"
      },
      "source": [
        "## News summarization using the Newspaper3k library"
      ]
    },
    {
      "cell_type": "code",
      "metadata": {
        "id": "9B8Pz--DYwRy",
        "colab_type": "code",
        "colab": {}
      },
      "source": [
        "from newspaper import Article"
      ],
      "execution_count": 23,
      "outputs": []
    },
    {
      "cell_type": "code",
      "metadata": {
        "id": "y0PCgIWiY-dV",
        "colab_type": "code",
        "colab": {}
      },
      "source": [
        "# link to be scraped\n",
        "article = Article(\"https://www.nytimes.com/2020/05/10/us/ahmaud-arbery-georgia.html\")"
      ],
      "execution_count": 25,
      "outputs": []
    },
    {
      "cell_type": "code",
      "metadata": {
        "id": "vWvgpmHMZAZI",
        "colab_type": "code",
        "colab": {}
      },
      "source": [
        "#You can also use a specific language\n",
        "article = Article(\"https://www.nytimes.com/2020/05/10/us/ahmaud-arbery-georgia.html\", \"en\")"
      ],
      "execution_count": 26,
      "outputs": []
    },
    {
      "cell_type": "code",
      "metadata": {
        "id": "Y00QpHzDZNM7",
        "colab_type": "code",
        "colab": {}
      },
      "source": [
        "#Download and parse the article\n",
        "article.download()\n",
        "article.parse()"
      ],
      "execution_count": 27,
      "outputs": []
    },
    {
      "cell_type": "code",
      "metadata": {
        "id": "O0UGwrEwZQy3",
        "colab_type": "code",
        "colab": {
          "base_uri": "https://localhost:8080/",
          "height": 36
        },
        "outputId": "becc6b77-3c6e-44ff-89fc-fb160f3da193"
      },
      "source": [
        "# Everything is set, we can use different methods to extract information about the article\n",
        "article.authors"
      ],
      "execution_count": 28,
      "outputs": [
        {
          "output_type": "execute_result",
          "data": {
            "text/plain": [
              "['Richard Fausset']"
            ]
          },
          "metadata": {
            "tags": []
          },
          "execution_count": 28
        }
      ]
    },
    {
      "cell_type": "code",
      "metadata": {
        "id": "JPRc32CiZSiL",
        "colab_type": "code",
        "colab": {
          "base_uri": "https://localhost:8080/",
          "height": 36
        },
        "outputId": "a79abbae-329e-4143-ac60-bc38b8420103"
      },
      "source": [
        "article.publish_date"
      ],
      "execution_count": 29,
      "outputs": [
        {
          "output_type": "execute_result",
          "data": {
            "text/plain": [
              "datetime.datetime(2020, 5, 10, 0, 0)"
            ]
          },
          "metadata": {
            "tags": []
          },
          "execution_count": 29
        }
      ]
    },
    {
      "cell_type": "code",
      "metadata": {
        "id": "eJJXe9nuZUC6",
        "colab_type": "code",
        "colab": {
          "base_uri": "https://localhost:8080/",
          "height": 168
        },
        "outputId": "151609c6-c03c-4c09-b169-dcf57d3bd2e0"
      },
      "source": [
        "article.text"
      ],
      "execution_count": 30,
      "outputs": [
        {
          "output_type": "execute_result",
          "data": {
            "application/vnd.google.colaboratory.intrinsic": {
              "type": "string"
            },
            "text/plain": [
              "'Mr. Arbery was a natural mimic, and Mr. Baker remembered laughing at his impressions on weekday mornings while sitting next to him on the bus. Mr. Arbery was also dazzling on the empty lot where they played a one-man-against-the-world football game called “hot ball.”\\n\\nMr. Arbery preferred to play barefoot, and patterned his moves on Reggie Bush, the fleet and nimble N.F.L. running back. “Quick cuts, spin and juke moves, step backs,” Mr. Baker said. “It just left you in awe.”\\n\\nMuch of their childhood was spent outside, drinking water from a spigot and playing ball until dark, and eventually Mr. Baker trimmed down and became a good athlete in his own right. Soon they were both linebackers for the Brunswick High School Pirates.\\n\\nMr. Arbery won accolades for his talent, and dreamed of playing for the N.F.L. Mr. Baker, who loved to read, dreamed of becoming a doctor.\\n\\nMr. Baker got his driver’s license first. The two men would drive around their little town in an old Buick Century sedan, rapping together. Mr. Baker, partial to the dense, thorny lyrics of the rapper Kendrick Lamar, was the more fluid wordsmith. Mr. Arbery tended to provide the sounds of encouragement — the “oohs” and “oh, yeahs” — as Mr. Baker freestyled. It was a good fit.\\n\\nWhile Mr. Baker made plans for college, Mr. Arbery planned to stay home. He had a job at McDonald’s. But he was not jealous. He told Mr. Baker, “I’m going to see you at the top.”\\n\\nMr. Baker thrived at Morehouse, even though he arrived on academic probation because of his lower standardized test scores. He said he had something to prove. He called Mr. Arbery regularly, letting him in on the broader college world he was immersed in, describing to him the myriad varieties of black experience that came out of the Morehouse student body.'"
            ]
          },
          "metadata": {
            "tags": []
          },
          "execution_count": 30
        }
      ]
    },
    {
      "cell_type": "code",
      "metadata": {
        "id": "t4ds4xgPZWFm",
        "colab_type": "code",
        "colab": {
          "base_uri": "https://localhost:8080/",
          "height": 335
        },
        "outputId": "a5a4324c-a757-4bd3-bb11-06ea0c71cc4c"
      },
      "source": [
        "# Use the nlp method for simple text processing\n",
        "article.nlp()\n",
        "article.keywords"
      ],
      "execution_count": 32,
      "outputs": [
        {
          "output_type": "execute_result",
          "data": {
            "text/plain": [
              "['moves',\n",
              " 'ahmaud',\n",
              " 'ends',\n",
              " 'text',\n",
              " 'playing',\n",
              " 'dreamed',\n",
              " 'college',\n",
              " 'good',\n",
              " 'morehouse',\n",
              " 'baker',\n",
              " 'lost',\n",
              " 'lifetime',\n",
              " 'maud',\n",
              " 'running',\n",
              " 'arbery',\n",
              " 'mr',\n",
              " 'nfl']"
            ]
          },
          "metadata": {
            "tags": []
          },
          "execution_count": 32
        }
      ]
    },
    {
      "cell_type": "code",
      "metadata": {
        "id": "H1EcJOigaEq-",
        "colab_type": "code",
        "colab": {
          "base_uri": "https://localhost:8080/",
          "height": 92
        },
        "outputId": "4ef9e4eb-e6b5-48dd-c7a8-343ad16106d2"
      },
      "source": [
        "article.summary"
      ],
      "execution_count": 33,
      "outputs": [
        {
          "output_type": "execute_result",
          "data": {
            "application/vnd.google.colaboratory.intrinsic": {
              "type": "string"
            },
            "text/plain": [
              "'Mr. Arbery was a natural mimic, and Mr. Baker remembered laughing at his impressions on weekday mornings while sitting next to him on the bus.\\nMr. Arbery won accolades for his talent, and dreamed of playing for the N.F.L.\\nMr. Baker, partial to the dense, thorny lyrics of the rapper Kendrick Lamar, was the more fluid wordsmith.\\nMr. Arbery tended to provide the sounds of encouragement — the “oohs” and “oh, yeahs” — as Mr. Baker freestyled.\\nWhile Mr. Baker made plans for college, Mr. Arbery planned to stay home.'"
            ]
          },
          "metadata": {
            "tags": []
          },
          "execution_count": 33
        }
      ]
    }
  ]
}
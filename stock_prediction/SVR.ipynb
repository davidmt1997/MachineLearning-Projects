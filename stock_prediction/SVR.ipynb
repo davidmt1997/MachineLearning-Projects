{
  "nbformat": 4,
  "nbformat_minor": 0,
  "metadata": {
    "colab": {
      "name": "SVR.ipynb",
      "provenance": [],
      "collapsed_sections": []
    },
    "kernelspec": {
      "name": "python3",
      "display_name": "Python 3"
    }
  },
  "cells": [
    {
      "cell_type": "code",
      "metadata": {
        "id": "SGHyFyu8-54p",
        "colab_type": "code",
        "colab": {}
      },
      "source": [
        "# Predict Google stocks for a specific day using Support Vector Regression"
      ],
      "execution_count": 0,
      "outputs": []
    },
    {
      "cell_type": "code",
      "metadata": {
        "id": "WMMstTYH_rds",
        "colab_type": "code",
        "outputId": "08c66a4c-b342-4854-ffaa-ba0c74ca8e1b",
        "colab": {
          "base_uri": "https://localhost:8080/",
          "height": 74
        }
      },
      "source": [
        "from sklearn.svm import SVR\n",
        "import numpy as np\n",
        "import pandas as pd\n",
        "import pandas_datareader as web\n",
        "import matplotlib.pyplot as plt\n",
        "plt.style.use('fivethirtyeight')"
      ],
      "execution_count": 0,
      "outputs": [
        {
          "output_type": "stream",
          "text": [
            "/usr/local/lib/python3.6/dist-packages/pandas_datareader/compat/__init__.py:7: FutureWarning: pandas.util.testing is deprecated. Use the functions in the public API at pandas.testing instead.\n",
            "  from pandas.util.testing import assert_frame_equal\n"
          ],
          "name": "stderr"
        }
      ]
    },
    {
      "cell_type": "code",
      "metadata": {
        "id": "yfHgkmgF_yRz",
        "colab_type": "code",
        "outputId": "d9ff3188-1f9d-4434-962b-77643897018c",
        "colab": {
          "base_uri": "https://localhost:8080/",
          "height": 708
        }
      },
      "source": [
        "#Get the stock quote\n",
        "df = web.DataReader('GOOGL', data_source='yahoo', start='2020-05-01', end='2020-05-31')\n",
        "df"
      ],
      "execution_count": 0,
      "outputs": [
        {
          "output_type": "execute_result",
          "data": {
            "text/html": [
              "<div>\n",
              "<style scoped>\n",
              "    .dataframe tbody tr th:only-of-type {\n",
              "        vertical-align: middle;\n",
              "    }\n",
              "\n",
              "    .dataframe tbody tr th {\n",
              "        vertical-align: top;\n",
              "    }\n",
              "\n",
              "    .dataframe thead th {\n",
              "        text-align: right;\n",
              "    }\n",
              "</style>\n",
              "<table border=\"1\" class=\"dataframe\">\n",
              "  <thead>\n",
              "    <tr style=\"text-align: right;\">\n",
              "      <th></th>\n",
              "      <th>High</th>\n",
              "      <th>Low</th>\n",
              "      <th>Open</th>\n",
              "      <th>Close</th>\n",
              "      <th>Volume</th>\n",
              "      <th>Adj Close</th>\n",
              "    </tr>\n",
              "    <tr>\n",
              "      <th>Date</th>\n",
              "      <th></th>\n",
              "      <th></th>\n",
              "      <th></th>\n",
              "      <th></th>\n",
              "      <th></th>\n",
              "      <th></th>\n",
              "    </tr>\n",
              "  </thead>\n",
              "  <tbody>\n",
              "    <tr>\n",
              "      <th>2020-05-01</th>\n",
              "      <td>1351.430054</td>\n",
              "      <td>1309.660034</td>\n",
              "      <td>1324.089966</td>\n",
              "      <td>1317.319946</td>\n",
              "      <td>2443600</td>\n",
              "      <td>1317.319946</td>\n",
              "    </tr>\n",
              "    <tr>\n",
              "      <th>2020-05-04</th>\n",
              "      <td>1324.469971</td>\n",
              "      <td>1296.010010</td>\n",
              "      <td>1308.130005</td>\n",
              "      <td>1322.900024</td>\n",
              "      <td>1540300</td>\n",
              "      <td>1322.900024</td>\n",
              "    </tr>\n",
              "    <tr>\n",
              "      <th>2020-05-05</th>\n",
              "      <td>1371.010010</td>\n",
              "      <td>1335.030029</td>\n",
              "      <td>1337.500000</td>\n",
              "      <td>1349.020020</td>\n",
              "      <td>1983300</td>\n",
              "      <td>1349.020020</td>\n",
              "    </tr>\n",
              "    <tr>\n",
              "      <th>2020-05-06</th>\n",
              "      <td>1368.689941</td>\n",
              "      <td>1345.130005</td>\n",
              "      <td>1358.000000</td>\n",
              "      <td>1345.430054</td>\n",
              "      <td>1586600</td>\n",
              "      <td>1345.430054</td>\n",
              "    </tr>\n",
              "    <tr>\n",
              "      <th>2020-05-07</th>\n",
              "      <td>1376.000000</td>\n",
              "      <td>1352.540039</td>\n",
              "      <td>1361.310059</td>\n",
              "      <td>1369.280029</td>\n",
              "      <td>1532600</td>\n",
              "      <td>1369.280029</td>\n",
              "    </tr>\n",
              "    <tr>\n",
              "      <th>2020-05-08</th>\n",
              "      <td>1396.640015</td>\n",
              "      <td>1372.010010</td>\n",
              "      <td>1381.819946</td>\n",
              "      <td>1384.339966</td>\n",
              "      <td>1666300</td>\n",
              "      <td>1384.339966</td>\n",
              "    </tr>\n",
              "    <tr>\n",
              "      <th>2020-05-11</th>\n",
              "      <td>1415.530029</td>\n",
              "      <td>1375.500000</td>\n",
              "      <td>1376.790039</td>\n",
              "      <td>1403.589966</td>\n",
              "      <td>1633700</td>\n",
              "      <td>1403.589966</td>\n",
              "    </tr>\n",
              "    <tr>\n",
              "      <th>2020-05-12</th>\n",
              "      <td>1414.329956</td>\n",
              "      <td>1374.510010</td>\n",
              "      <td>1408.219971</td>\n",
              "      <td>1375.180054</td>\n",
              "      <td>1695900</td>\n",
              "      <td>1375.180054</td>\n",
              "    </tr>\n",
              "    <tr>\n",
              "      <th>2020-05-13</th>\n",
              "      <td>1385.329956</td>\n",
              "      <td>1328.010010</td>\n",
              "      <td>1376.160034</td>\n",
              "      <td>1348.329956</td>\n",
              "      <td>2018400</td>\n",
              "      <td>1348.329956</td>\n",
              "    </tr>\n",
              "    <tr>\n",
              "      <th>2020-05-14</th>\n",
              "      <td>1357.369995</td>\n",
              "      <td>1323.300049</td>\n",
              "      <td>1333.520020</td>\n",
              "      <td>1356.859985</td>\n",
              "      <td>1833000</td>\n",
              "      <td>1356.859985</td>\n",
              "    </tr>\n",
              "    <tr>\n",
              "      <th>2020-05-15</th>\n",
              "      <td>1374.579956</td>\n",
              "      <td>1339.000000</td>\n",
              "      <td>1348.260010</td>\n",
              "      <td>1373.060059</td>\n",
              "      <td>2077200</td>\n",
              "      <td>1373.060059</td>\n",
              "    </tr>\n",
              "    <tr>\n",
              "      <th>2020-05-18</th>\n",
              "      <td>1392.760010</td>\n",
              "      <td>1354.199951</td>\n",
              "      <td>1361.579956</td>\n",
              "      <td>1385.180054</td>\n",
              "      <td>2356400</td>\n",
              "      <td>1385.180054</td>\n",
              "    </tr>\n",
              "    <tr>\n",
              "      <th>2020-05-19</th>\n",
              "      <td>1392.489990</td>\n",
              "      <td>1373.760010</td>\n",
              "      <td>1385.479980</td>\n",
              "      <td>1374.400024</td>\n",
              "      <td>1579300</td>\n",
              "      <td>1374.400024</td>\n",
              "    </tr>\n",
              "    <tr>\n",
              "      <th>2020-05-20</th>\n",
              "      <td>1412.030029</td>\n",
              "      <td>1387.420044</td>\n",
              "      <td>1389.160034</td>\n",
              "      <td>1409.160034</td>\n",
              "      <td>1913100</td>\n",
              "      <td>1409.160034</td>\n",
              "    </tr>\n",
              "    <tr>\n",
              "      <th>2020-05-21</th>\n",
              "      <td>1416.459961</td>\n",
              "      <td>1394.390015</td>\n",
              "      <td>1410.989990</td>\n",
              "      <td>1406.750000</td>\n",
              "      <td>1544700</td>\n",
              "      <td>1406.750000</td>\n",
              "    </tr>\n",
              "    <tr>\n",
              "      <th>2020-05-22</th>\n",
              "      <td>1417.000000</td>\n",
              "      <td>1395.949951</td>\n",
              "      <td>1403.900024</td>\n",
              "      <td>1413.239990</td>\n",
              "      <td>1427200</td>\n",
              "      <td>1413.239990</td>\n",
              "    </tr>\n",
              "    <tr>\n",
              "      <th>2020-05-26</th>\n",
              "      <td>1445.109985</td>\n",
              "      <td>1419.400024</td>\n",
              "      <td>1441.959961</td>\n",
              "      <td>1421.369995</td>\n",
              "      <td>2229500</td>\n",
              "      <td>1421.369995</td>\n",
              "    </tr>\n",
              "    <tr>\n",
              "      <th>2020-05-27</th>\n",
              "      <td>1425.349976</td>\n",
              "      <td>1394.599976</td>\n",
              "      <td>1420.000000</td>\n",
              "      <td>1420.280029</td>\n",
              "      <td>1584200</td>\n",
              "      <td>1420.280029</td>\n",
              "    </tr>\n",
              "    <tr>\n",
              "      <th>2020-05-28</th>\n",
              "      <td>1444.459961</td>\n",
              "      <td>1399.079956</td>\n",
              "      <td>1400.000000</td>\n",
              "      <td>1418.239990</td>\n",
              "      <td>1758500</td>\n",
              "      <td>1418.239990</td>\n",
              "    </tr>\n",
              "    <tr>\n",
              "      <th>2020-05-29</th>\n",
              "      <td>1436.729980</td>\n",
              "      <td>1415.979980</td>\n",
              "      <td>1420.430054</td>\n",
              "      <td>1433.520020</td>\n",
              "      <td>1852200</td>\n",
              "      <td>1433.520020</td>\n",
              "    </tr>\n",
              "  </tbody>\n",
              "</table>\n",
              "</div>"
            ],
            "text/plain": [
              "                   High          Low  ...   Volume    Adj Close\n",
              "Date                                  ...                      \n",
              "2020-05-01  1351.430054  1309.660034  ...  2443600  1317.319946\n",
              "2020-05-04  1324.469971  1296.010010  ...  1540300  1322.900024\n",
              "2020-05-05  1371.010010  1335.030029  ...  1983300  1349.020020\n",
              "2020-05-06  1368.689941  1345.130005  ...  1586600  1345.430054\n",
              "2020-05-07  1376.000000  1352.540039  ...  1532600  1369.280029\n",
              "2020-05-08  1396.640015  1372.010010  ...  1666300  1384.339966\n",
              "2020-05-11  1415.530029  1375.500000  ...  1633700  1403.589966\n",
              "2020-05-12  1414.329956  1374.510010  ...  1695900  1375.180054\n",
              "2020-05-13  1385.329956  1328.010010  ...  2018400  1348.329956\n",
              "2020-05-14  1357.369995  1323.300049  ...  1833000  1356.859985\n",
              "2020-05-15  1374.579956  1339.000000  ...  2077200  1373.060059\n",
              "2020-05-18  1392.760010  1354.199951  ...  2356400  1385.180054\n",
              "2020-05-19  1392.489990  1373.760010  ...  1579300  1374.400024\n",
              "2020-05-20  1412.030029  1387.420044  ...  1913100  1409.160034\n",
              "2020-05-21  1416.459961  1394.390015  ...  1544700  1406.750000\n",
              "2020-05-22  1417.000000  1395.949951  ...  1427200  1413.239990\n",
              "2020-05-26  1445.109985  1419.400024  ...  2229500  1421.369995\n",
              "2020-05-27  1425.349976  1394.599976  ...  1584200  1420.280029\n",
              "2020-05-28  1444.459961  1399.079956  ...  1758500  1418.239990\n",
              "2020-05-29  1436.729980  1415.979980  ...  1852200  1433.520020\n",
              "\n",
              "[20 rows x 6 columns]"
            ]
          },
          "metadata": {
            "tags": []
          },
          "execution_count": 35
        }
      ]
    },
    {
      "cell_type": "code",
      "metadata": {
        "id": "frfN6dxP_3tw",
        "colab_type": "code",
        "outputId": "a1896987-743a-401c-fb9e-4804f22f8a40",
        "colab": {
          "base_uri": "https://localhost:8080/",
          "height": 112
        }
      },
      "source": [
        "actual_price = df.tail(1)\n",
        "actual_price"
      ],
      "execution_count": 0,
      "outputs": [
        {
          "output_type": "execute_result",
          "data": {
            "text/html": [
              "<div>\n",
              "<style scoped>\n",
              "    .dataframe tbody tr th:only-of-type {\n",
              "        vertical-align: middle;\n",
              "    }\n",
              "\n",
              "    .dataframe tbody tr th {\n",
              "        vertical-align: top;\n",
              "    }\n",
              "\n",
              "    .dataframe thead th {\n",
              "        text-align: right;\n",
              "    }\n",
              "</style>\n",
              "<table border=\"1\" class=\"dataframe\">\n",
              "  <thead>\n",
              "    <tr style=\"text-align: right;\">\n",
              "      <th></th>\n",
              "      <th>High</th>\n",
              "      <th>Low</th>\n",
              "      <th>Open</th>\n",
              "      <th>Close</th>\n",
              "      <th>Volume</th>\n",
              "      <th>Adj Close</th>\n",
              "    </tr>\n",
              "    <tr>\n",
              "      <th>Date</th>\n",
              "      <th></th>\n",
              "      <th></th>\n",
              "      <th></th>\n",
              "      <th></th>\n",
              "      <th></th>\n",
              "      <th></th>\n",
              "    </tr>\n",
              "  </thead>\n",
              "  <tbody>\n",
              "    <tr>\n",
              "      <th>2020-05-29</th>\n",
              "      <td>1436.72998</td>\n",
              "      <td>1415.97998</td>\n",
              "      <td>1420.430054</td>\n",
              "      <td>1433.52002</td>\n",
              "      <td>1852200</td>\n",
              "      <td>1433.52002</td>\n",
              "    </tr>\n",
              "  </tbody>\n",
              "</table>\n",
              "</div>"
            ],
            "text/plain": [
              "                  High         Low  ...   Volume   Adj Close\n",
              "Date                                ...                     \n",
              "2020-05-29  1436.72998  1415.97998  ...  1852200  1433.52002\n",
              "\n",
              "[1 rows x 6 columns]"
            ]
          },
          "metadata": {
            "tags": []
          },
          "execution_count": 36
        }
      ]
    },
    {
      "cell_type": "code",
      "metadata": {
        "id": "69HVmurZAFgZ",
        "colab_type": "code",
        "outputId": "36a0aec0-be05-46bf-f012-ab5656e3be05",
        "colab": {
          "base_uri": "https://localhost:8080/",
          "height": 677
        }
      },
      "source": [
        "df = df.head(len(df)-1)\n",
        "df"
      ],
      "execution_count": 0,
      "outputs": [
        {
          "output_type": "execute_result",
          "data": {
            "text/html": [
              "<div>\n",
              "<style scoped>\n",
              "    .dataframe tbody tr th:only-of-type {\n",
              "        vertical-align: middle;\n",
              "    }\n",
              "\n",
              "    .dataframe tbody tr th {\n",
              "        vertical-align: top;\n",
              "    }\n",
              "\n",
              "    .dataframe thead th {\n",
              "        text-align: right;\n",
              "    }\n",
              "</style>\n",
              "<table border=\"1\" class=\"dataframe\">\n",
              "  <thead>\n",
              "    <tr style=\"text-align: right;\">\n",
              "      <th></th>\n",
              "      <th>High</th>\n",
              "      <th>Low</th>\n",
              "      <th>Open</th>\n",
              "      <th>Close</th>\n",
              "      <th>Volume</th>\n",
              "      <th>Adj Close</th>\n",
              "    </tr>\n",
              "    <tr>\n",
              "      <th>Date</th>\n",
              "      <th></th>\n",
              "      <th></th>\n",
              "      <th></th>\n",
              "      <th></th>\n",
              "      <th></th>\n",
              "      <th></th>\n",
              "    </tr>\n",
              "  </thead>\n",
              "  <tbody>\n",
              "    <tr>\n",
              "      <th>2020-05-01</th>\n",
              "      <td>1351.430054</td>\n",
              "      <td>1309.660034</td>\n",
              "      <td>1324.089966</td>\n",
              "      <td>1317.319946</td>\n",
              "      <td>2443600</td>\n",
              "      <td>1317.319946</td>\n",
              "    </tr>\n",
              "    <tr>\n",
              "      <th>2020-05-04</th>\n",
              "      <td>1324.469971</td>\n",
              "      <td>1296.010010</td>\n",
              "      <td>1308.130005</td>\n",
              "      <td>1322.900024</td>\n",
              "      <td>1540300</td>\n",
              "      <td>1322.900024</td>\n",
              "    </tr>\n",
              "    <tr>\n",
              "      <th>2020-05-05</th>\n",
              "      <td>1371.010010</td>\n",
              "      <td>1335.030029</td>\n",
              "      <td>1337.500000</td>\n",
              "      <td>1349.020020</td>\n",
              "      <td>1983300</td>\n",
              "      <td>1349.020020</td>\n",
              "    </tr>\n",
              "    <tr>\n",
              "      <th>2020-05-06</th>\n",
              "      <td>1368.689941</td>\n",
              "      <td>1345.130005</td>\n",
              "      <td>1358.000000</td>\n",
              "      <td>1345.430054</td>\n",
              "      <td>1586600</td>\n",
              "      <td>1345.430054</td>\n",
              "    </tr>\n",
              "    <tr>\n",
              "      <th>2020-05-07</th>\n",
              "      <td>1376.000000</td>\n",
              "      <td>1352.540039</td>\n",
              "      <td>1361.310059</td>\n",
              "      <td>1369.280029</td>\n",
              "      <td>1532600</td>\n",
              "      <td>1369.280029</td>\n",
              "    </tr>\n",
              "    <tr>\n",
              "      <th>2020-05-08</th>\n",
              "      <td>1396.640015</td>\n",
              "      <td>1372.010010</td>\n",
              "      <td>1381.819946</td>\n",
              "      <td>1384.339966</td>\n",
              "      <td>1666300</td>\n",
              "      <td>1384.339966</td>\n",
              "    </tr>\n",
              "    <tr>\n",
              "      <th>2020-05-11</th>\n",
              "      <td>1415.530029</td>\n",
              "      <td>1375.500000</td>\n",
              "      <td>1376.790039</td>\n",
              "      <td>1403.589966</td>\n",
              "      <td>1633700</td>\n",
              "      <td>1403.589966</td>\n",
              "    </tr>\n",
              "    <tr>\n",
              "      <th>2020-05-12</th>\n",
              "      <td>1414.329956</td>\n",
              "      <td>1374.510010</td>\n",
              "      <td>1408.219971</td>\n",
              "      <td>1375.180054</td>\n",
              "      <td>1695900</td>\n",
              "      <td>1375.180054</td>\n",
              "    </tr>\n",
              "    <tr>\n",
              "      <th>2020-05-13</th>\n",
              "      <td>1385.329956</td>\n",
              "      <td>1328.010010</td>\n",
              "      <td>1376.160034</td>\n",
              "      <td>1348.329956</td>\n",
              "      <td>2018400</td>\n",
              "      <td>1348.329956</td>\n",
              "    </tr>\n",
              "    <tr>\n",
              "      <th>2020-05-14</th>\n",
              "      <td>1357.369995</td>\n",
              "      <td>1323.300049</td>\n",
              "      <td>1333.520020</td>\n",
              "      <td>1356.859985</td>\n",
              "      <td>1833000</td>\n",
              "      <td>1356.859985</td>\n",
              "    </tr>\n",
              "    <tr>\n",
              "      <th>2020-05-15</th>\n",
              "      <td>1374.579956</td>\n",
              "      <td>1339.000000</td>\n",
              "      <td>1348.260010</td>\n",
              "      <td>1373.060059</td>\n",
              "      <td>2077200</td>\n",
              "      <td>1373.060059</td>\n",
              "    </tr>\n",
              "    <tr>\n",
              "      <th>2020-05-18</th>\n",
              "      <td>1392.760010</td>\n",
              "      <td>1354.199951</td>\n",
              "      <td>1361.579956</td>\n",
              "      <td>1385.180054</td>\n",
              "      <td>2356400</td>\n",
              "      <td>1385.180054</td>\n",
              "    </tr>\n",
              "    <tr>\n",
              "      <th>2020-05-19</th>\n",
              "      <td>1392.489990</td>\n",
              "      <td>1373.760010</td>\n",
              "      <td>1385.479980</td>\n",
              "      <td>1374.400024</td>\n",
              "      <td>1579300</td>\n",
              "      <td>1374.400024</td>\n",
              "    </tr>\n",
              "    <tr>\n",
              "      <th>2020-05-20</th>\n",
              "      <td>1412.030029</td>\n",
              "      <td>1387.420044</td>\n",
              "      <td>1389.160034</td>\n",
              "      <td>1409.160034</td>\n",
              "      <td>1913100</td>\n",
              "      <td>1409.160034</td>\n",
              "    </tr>\n",
              "    <tr>\n",
              "      <th>2020-05-21</th>\n",
              "      <td>1416.459961</td>\n",
              "      <td>1394.390015</td>\n",
              "      <td>1410.989990</td>\n",
              "      <td>1406.750000</td>\n",
              "      <td>1544700</td>\n",
              "      <td>1406.750000</td>\n",
              "    </tr>\n",
              "    <tr>\n",
              "      <th>2020-05-22</th>\n",
              "      <td>1417.000000</td>\n",
              "      <td>1395.949951</td>\n",
              "      <td>1403.900024</td>\n",
              "      <td>1413.239990</td>\n",
              "      <td>1427200</td>\n",
              "      <td>1413.239990</td>\n",
              "    </tr>\n",
              "    <tr>\n",
              "      <th>2020-05-26</th>\n",
              "      <td>1445.109985</td>\n",
              "      <td>1419.400024</td>\n",
              "      <td>1441.959961</td>\n",
              "      <td>1421.369995</td>\n",
              "      <td>2229500</td>\n",
              "      <td>1421.369995</td>\n",
              "    </tr>\n",
              "    <tr>\n",
              "      <th>2020-05-27</th>\n",
              "      <td>1425.349976</td>\n",
              "      <td>1394.599976</td>\n",
              "      <td>1420.000000</td>\n",
              "      <td>1420.280029</td>\n",
              "      <td>1584200</td>\n",
              "      <td>1420.280029</td>\n",
              "    </tr>\n",
              "    <tr>\n",
              "      <th>2020-05-28</th>\n",
              "      <td>1444.459961</td>\n",
              "      <td>1399.079956</td>\n",
              "      <td>1400.000000</td>\n",
              "      <td>1418.239990</td>\n",
              "      <td>1758500</td>\n",
              "      <td>1418.239990</td>\n",
              "    </tr>\n",
              "  </tbody>\n",
              "</table>\n",
              "</div>"
            ],
            "text/plain": [
              "                   High          Low  ...   Volume    Adj Close\n",
              "Date                                  ...                      \n",
              "2020-05-01  1351.430054  1309.660034  ...  2443600  1317.319946\n",
              "2020-05-04  1324.469971  1296.010010  ...  1540300  1322.900024\n",
              "2020-05-05  1371.010010  1335.030029  ...  1983300  1349.020020\n",
              "2020-05-06  1368.689941  1345.130005  ...  1586600  1345.430054\n",
              "2020-05-07  1376.000000  1352.540039  ...  1532600  1369.280029\n",
              "2020-05-08  1396.640015  1372.010010  ...  1666300  1384.339966\n",
              "2020-05-11  1415.530029  1375.500000  ...  1633700  1403.589966\n",
              "2020-05-12  1414.329956  1374.510010  ...  1695900  1375.180054\n",
              "2020-05-13  1385.329956  1328.010010  ...  2018400  1348.329956\n",
              "2020-05-14  1357.369995  1323.300049  ...  1833000  1356.859985\n",
              "2020-05-15  1374.579956  1339.000000  ...  2077200  1373.060059\n",
              "2020-05-18  1392.760010  1354.199951  ...  2356400  1385.180054\n",
              "2020-05-19  1392.489990  1373.760010  ...  1579300  1374.400024\n",
              "2020-05-20  1412.030029  1387.420044  ...  1913100  1409.160034\n",
              "2020-05-21  1416.459961  1394.390015  ...  1544700  1406.750000\n",
              "2020-05-22  1417.000000  1395.949951  ...  1427200  1413.239990\n",
              "2020-05-26  1445.109985  1419.400024  ...  2229500  1421.369995\n",
              "2020-05-27  1425.349976  1394.599976  ...  1584200  1420.280029\n",
              "2020-05-28  1444.459961  1399.079956  ...  1758500  1418.239990\n",
              "\n",
              "[19 rows x 6 columns]"
            ]
          },
          "metadata": {
            "tags": []
          },
          "execution_count": 37
        }
      ]
    },
    {
      "cell_type": "code",
      "metadata": {
        "id": "zNe0yPUxAMBK",
        "colab_type": "code",
        "colab": {}
      },
      "source": [
        "days = list()\n",
        "adj_close_prices = list()"
      ],
      "execution_count": 0,
      "outputs": []
    },
    {
      "cell_type": "code",
      "metadata": {
        "id": "MedQ2YO1AX-X",
        "colab_type": "code",
        "colab": {}
      },
      "source": [
        "# Get the date and adj close price\n",
        "df_days = df.index.day\n",
        "df_adj_close = df.loc[:, 'Adj Close']"
      ],
      "execution_count": 0,
      "outputs": []
    },
    {
      "cell_type": "code",
      "metadata": {
        "id": "IiO29vsUAlbZ",
        "colab_type": "code",
        "outputId": "6310637a-a0aa-4f3c-c173-b2d1ee2cbd15",
        "colab": {
          "base_uri": "https://localhost:8080/",
          "height": 36
        }
      },
      "source": [
        "len(df_days)"
      ],
      "execution_count": 0,
      "outputs": [
        {
          "output_type": "execute_result",
          "data": {
            "text/plain": [
              "19"
            ]
          },
          "metadata": {
            "tags": []
          },
          "execution_count": 40
        }
      ]
    },
    {
      "cell_type": "code",
      "metadata": {
        "id": "BApfhfXFAr80",
        "colab_type": "code",
        "colab": {}
      },
      "source": [
        "# Create the independent dataset\n",
        "for day in df_days:\n",
        "  days.append([day])\n",
        "\n",
        "# Create the dependent dataset\n",
        "for adj_close_price in df_adj_close:\n",
        "  adj_close_prices.append(float(adj_close_price))"
      ],
      "execution_count": 0,
      "outputs": []
    },
    {
      "cell_type": "code",
      "metadata": {
        "id": "fSENy9fgKo4M",
        "colab_type": "code",
        "outputId": "312e97e1-5932-47f8-fc5e-c1c7c1447ac0",
        "colab": {
          "base_uri": "https://localhost:8080/",
          "height": 373
        }
      },
      "source": [
        "days"
      ],
      "execution_count": 0,
      "outputs": [
        {
          "output_type": "execute_result",
          "data": {
            "text/plain": [
              "[[1],\n",
              " [4],\n",
              " [5],\n",
              " [6],\n",
              " [7],\n",
              " [8],\n",
              " [11],\n",
              " [12],\n",
              " [13],\n",
              " [14],\n",
              " [15],\n",
              " [18],\n",
              " [19],\n",
              " [20],\n",
              " [21],\n",
              " [22],\n",
              " [26],\n",
              " [27],\n",
              " [28]]"
            ]
          },
          "metadata": {
            "tags": []
          },
          "execution_count": 42
        }
      ]
    },
    {
      "cell_type": "code",
      "metadata": {
        "id": "nSwbbnzTBSVs",
        "colab_type": "code",
        "outputId": "9ef03b72-f5b2-4c7d-8c05-5d5528fa5e9a",
        "colab": {
          "base_uri": "https://localhost:8080/",
          "height": 54
        }
      },
      "source": [
        "# Create the three SVR models\n",
        "\n",
        "# Create and train a SVR model using a linear kernel\n",
        "lin_svr = SVR(kernel='linear', C=1000.0)\n",
        "lin_svr.fit(days, adj_close_prices)\n",
        "\n",
        "# Create and train a SVR model using a polynomial kernel\n",
        "poly_svr = SVR(kernel='poly', C=1000.0, degree=2)\n",
        "poly_svr.fit(days, adj_close_prices)\n",
        "\n",
        "# Create and train a SVR model using a linear kernel\n",
        "rbf_svr = SVR(kernel='rbf', C=1000.0, gamma=0.15)\n",
        "rbf_svr.fit(days, adj_close_prices)"
      ],
      "execution_count": 0,
      "outputs": [
        {
          "output_type": "execute_result",
          "data": {
            "text/plain": [
              "SVR(C=1000.0, cache_size=200, coef0=0.0, degree=3, epsilon=0.1, gamma=0.15,\n",
              "    kernel='rbf', max_iter=-1, shrinking=True, tol=0.001, verbose=False)"
            ]
          },
          "metadata": {
            "tags": []
          },
          "execution_count": 43
        }
      ]
    },
    {
      "cell_type": "code",
      "metadata": {
        "id": "Yx_Al6TcCZim",
        "colab_type": "code",
        "outputId": "d16da98b-0bf9-4735-aee6-dc5c02d84bb0",
        "colab": {
          "base_uri": "https://localhost:8080/",
          "height": 457
        }
      },
      "source": [
        "# Plot the models on a graph\n",
        "plt.figure(figsize=(15, 7))\n",
        "plt.scatter(days, adj_close_prices, color='black', label='Original data')\n",
        "plt.plot(days, rbf_svr.predict(days), color='green', label='RBF Model')\n",
        "plt.plot(days, poly_svr.predict(days), color='orange', label='Polynomial Model')\n",
        "plt.plot(days, lin_svr.predict(days), color='purple', label='Linear Model')\n",
        "plt.legend()\n",
        "plt.show()"
      ],
      "execution_count": 0,
      "outputs": [
        {
          "output_type": "display_data",
          "data": {
            "image/png": "[encoded data removed]",
            "text/plain": [
              "<Figure size 1080x504 with 1 Axes>"
            ]
          },
          "metadata": {
            "tags": []
          }
        }
      ]
    },
    {
      "cell_type": "code",
      "metadata": {
        "id": "OEUkdPWUDRf_",
        "colab_type": "code",
        "outputId": "17f9a7e3-85a8-43b4-a6a6-d59ee87d4e99",
        "colab": {
          "base_uri": "https://localhost:8080/",
          "height": 73
        }
      },
      "source": [
        "# Show the predictions made by the models\n",
        "day = [[30]]\n",
        "\n",
        "print('The RBF model predicted', rbf_svr.predict(day))\n",
        "print('The Polynomial model predicted', poly_svr.predict(day))\n",
        "print('The Linear model predicted', lin_svr.predict(day))"
      ],
      "execution_count": 0,
      "outputs": [
        {
          "output_type": "stream",
          "text": [
            "The RBF model predicted [1400.23033752]\n",
            "The Polynomial model predicted [1445.27009509]\n",
            "The Linear model predicted [1431.07288295]\n"
          ],
          "name": "stdout"
        }
      ]
    },
    {
      "cell_type": "code",
      "metadata": {
        "id": "SkRclyBhDo1g",
        "colab_type": "code",
        "outputId": "a060be9b-ba55-4b26-8514-e0e00b7d19a4",
        "colab": {
          "base_uri": "https://localhost:8080/",
          "height": 73
        }
      },
      "source": [
        "print('The actual price: ', actual_price['Adj Close'])"
      ],
      "execution_count": 0,
      "outputs": [
        {
          "output_type": "stream",
          "text": [
            "The actual price:  Date\n",
            "2020-05-29    1433.52002\n",
            "Name: Adj Close, dtype: float64\n"
          ],
          "name": "stdout"
        }
      ]
    }
  ]
}